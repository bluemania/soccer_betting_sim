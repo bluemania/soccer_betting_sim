{
 "cells": [
  {
   "cell_type": "code",
   "execution_count": 11,
   "metadata": {},
   "outputs": [],
   "source": [
    "from selenium import webdriver\n",
    "from selenium.webdriver.common.by import By\n",
    "from selenium.webdriver.common.keys import Keys\n",
    "\n",
    "import time"
   ]
  },
  {
   "cell_type": "code",
   "execution_count": 2,
   "metadata": {},
   "outputs": [],
   "source": [
    "executable_path = '/Users/nicholasjenkins/Downloads/ENTER/chromedriver'\n",
    "browser = webdriver.Chrome(executable_path=executable_path)"
   ]
  },
  {
   "cell_type": "code",
   "execution_count": 3,
   "metadata": {},
   "outputs": [],
   "source": [
    "## What's the pattern?\n",
    "page = \"https://www.oddsportal.com/soccer/england/premier-league-2004-2005/results/\"\n",
    "page = \"https://www.oddsportal.com/soccer/england/premier-league-2004-2005/results/#/page/8/\"\n",
    "page = \"https://www.oddsportal.com/soccer/england/premier-league/results/\"\n",
    "page = \"https://www.oddsportal.com/soccer/england/premier-league-2018-2019/results/#/page/2/\"\n",
    "page = \"https://www.oddsportal.com/soccer/england/premier-league/results/#/page/3/\""
   ]
  },
  {
   "cell_type": "code",
   "execution_count": 4,
   "metadata": {},
   "outputs": [],
   "source": [
    "browser.get(page)"
   ]
  },
  {
   "cell_type": "code",
   "execution_count": 5,
   "metadata": {},
   "outputs": [],
   "source": [
    "url_root = \"https://www.oddsportal.com/soccer/england/premier-league\""
   ]
  },
  {
   "cell_type": "code",
   "execution_count": 8,
   "metadata": {},
   "outputs": [
    {
     "name": "stdout",
     "output_type": "stream",
     "text": [
      "Example: -2007-2008\n"
     ]
    }
   ],
   "source": [
    "# Make a list of the years portion of the URL\n",
    "years = list(range(2003,2020))\n",
    "\n",
    "years_list = []\n",
    "for i in range(len(years)):\n",
    "    if i+1 == len(years):\n",
    "        years_list.append(f\"\")\n",
    "    else:\n",
    "        years_list.append(f\"-{str(years[i])}-{str(years[i+1])}\")\n",
    "        \n",
    "print('Example:', years_list[4])        "
   ]
  },
  {
   "cell_type": "code",
   "execution_count": 9,
   "metadata": {},
   "outputs": [
    {
     "name": "stdout",
     "output_type": "stream",
     "text": [
      "Example: https://www.oddsportal.com/soccer/england/premier-league-2007-2008/results/#/page/7/\n",
      "Example: scrape/year_-2007-2008_page_7.txt\n"
     ]
    }
   ],
   "source": [
    "pages = []\n",
    "scrape_saves = []\n",
    "for year in years_list:\n",
    "    for i in range(9):\n",
    "        pages.append(f'{url_root}{year}/results/#/page/{i+1}/')\n",
    "        scrape_saves.append(f'scrape/year_{year}_page_{i+1}.txt')\n",
    "        \n",
    "print('Example:', pages[42]) \n",
    "print('Example:', scrape_saves[42]) "
   ]
  },
  {
   "cell_type": "code",
   "execution_count": null,
   "metadata": {},
   "outputs": [],
   "source": [
    "for i in range(len(pages)):\n",
    "    page = pages[i]\n",
    "    scrape_path = scrape_saves[i]\n",
    "\n",
    "    browser.get(page)\n",
    "    slept = 0\n",
    "\n",
    "    while True:\n",
    "        table = browser.find_element_by_id('tournamentTable')\n",
    "        raw_data = table.text\n",
    "        \n",
    "        if len(raw_data)>5:\n",
    "            with open(scrape_path, 'w') as f:\n",
    "                f.write(table.text)\n",
    "            break\n",
    "        elif slept>=20:\n",
    "            raise Exception\n",
    "        else:\n",
    "            time.sleep(1)\n",
    "            slept+=1"
   ]
  },
  {
   "cell_type": "code",
   "execution_count": null,
   "metadata": {},
   "outputs": [],
   "source": []
  },
  {
   "cell_type": "code",
   "execution_count": null,
   "metadata": {},
   "outputs": [],
   "source": []
  },
  {
   "cell_type": "code",
   "execution_count": null,
   "metadata": {},
   "outputs": [],
   "source": []
  }
 ],
 "metadata": {
  "kernelspec": {
   "display_name": "Python 3",
   "language": "python",
   "name": "python3"
  },
  "language_info": {
   "codemirror_mode": {
    "name": "ipython",
    "version": 3
   },
   "file_extension": ".py",
   "mimetype": "text/x-python",
   "name": "python",
   "nbconvert_exporter": "python",
   "pygments_lexer": "ipython3",
   "version": "3.7.3"
  }
 },
 "nbformat": 4,
 "nbformat_minor": 2
}
